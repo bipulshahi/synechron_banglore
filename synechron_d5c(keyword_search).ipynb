{
  "nbformat": 4,
  "nbformat_minor": 0,
  "metadata": {
    "colab": {
      "provenance": []
    },
    "kernelspec": {
      "name": "python3",
      "display_name": "Python 3"
    },
    "language_info": {
      "name": "python"
    }
  },
  "cells": [
    {
      "cell_type": "code",
      "execution_count": 1,
      "metadata": {
        "colab": {
          "base_uri": "https://localhost:8080/"
        },
        "id": "pPtzYG173_fO",
        "outputId": "fc295e37-54d3-4a19-afe8-cd67978bf9df"
      },
      "outputs": [
        {
          "output_type": "stream",
          "name": "stdout",
          "text": [
            "Collecting PyPDF2\n",
            "  Downloading pypdf2-3.0.1-py3-none-any.whl.metadata (6.8 kB)\n",
            "Downloading pypdf2-3.0.1-py3-none-any.whl (232 kB)\n",
            "\u001b[?25l   \u001b[90m━━━━━━━━━━━━━━━━━━━━━━━━━━━━━━━━━━━━━━━━\u001b[0m \u001b[32m0.0/232.6 kB\u001b[0m \u001b[31m?\u001b[0m eta \u001b[36m-:--:--\u001b[0m\r\u001b[2K   \u001b[91m━━━━━━━━━━━━━━━━━━━━━━━━━━\u001b[0m\u001b[90m╺\u001b[0m\u001b[90m━━━━━━━━━━━━━\u001b[0m \u001b[32m153.6/232.6 kB\u001b[0m \u001b[31m4.8 MB/s\u001b[0m eta \u001b[36m0:00:01\u001b[0m\r\u001b[2K   \u001b[90m━━━━━━━━━━━━━━━━━━━━━━━━━━━━━━━━━━━━━━━━\u001b[0m \u001b[32m232.6/232.6 kB\u001b[0m \u001b[31m4.4 MB/s\u001b[0m eta \u001b[36m0:00:00\u001b[0m\n",
            "\u001b[?25hInstalling collected packages: PyPDF2\n",
            "Successfully installed PyPDF2-3.0.1\n"
          ]
        }
      ],
      "source": [
        "!pip install PyPDF2"
      ]
    },
    {
      "cell_type": "code",
      "source": [
        "import PyPDF2\n",
        "\n",
        "def extract_data_from_pdf(pdf_path):\n",
        "  with open(pdf_path , 'rb') as file:\n",
        "    pdfreader = PyPDF2.PdfReader(file)\n",
        "    full_text = ''\n",
        "    for page in pdfreader.pages:\n",
        "      full_text += page.extract_text()\n",
        "  return full_text"
      ],
      "metadata": {
        "id": "08mPtOK64k3Y"
      },
      "execution_count": 2,
      "outputs": []
    },
    {
      "cell_type": "code",
      "source": [
        "extracted_text = extract_data_from_pdf('/content/company_manual.pdf')\n",
        "print(extracted_text)"
      ],
      "metadata": {
        "colab": {
          "base_uri": "https://localhost:8080/"
        },
        "id": "GubJQFEh5Slg",
        "outputId": "6eeb28c4-dae2-4471-8382-3a1342c8a825"
      },
      "execution_count": 4,
      "outputs": [
        {
          "output_type": "stream",
          "name": "stdout",
          "text": [
            "Company Manual - TechNova Solutions Pvt. Ltd.\n",
            "About the Company\n",
            "TechNova Solutions Pvt. Ltd. is a global leader in consumer electronics, committed to delivering\n",
            "innovative technology and excellent customer service. \n",
            "Founded in 2005, TechNova has grown to serve over 20 million customers across 35 countries. We\n",
            "specialize in smart devices, home automation, and sustainable technology solutions.\n",
            "Our mission is to make everyday life smarter, simpler, and more connected. We believe in constant\n",
            "innovation, environmental responsibility, and customer satisfaction above all else.\n",
            "Our headquarters are located in Bengaluru, India, with major regional offices in Singapore,\n",
            "Germany, and the United States.\n",
            "Return Policy\n",
            "We offer a 30-day return policy on all our products purchased directly through our website or\n",
            "authorized outlets.\n",
            "To be eligible for a return, the product must be unused, in its original packaging, and accompanied\n",
            "by the original invoice. Refunds are initiated after we receive and inspect the returned item.\n",
            "Returns are not accepted for customized products, opened software, or items marked 'final sale.'\n",
            "For international orders, return shipping costs are borne by the customer unless the product is found\n",
            "defective upon arrival.\n",
            "Please initiate your return through our online portal or by contacting our support team within 30 days\n",
            "of delivery.\n",
            "Warranty\n",
            "All TechNova products come with a one-year limited warranty from the date of purchase.\n",
            "This warranty covers manufacturing defects and issues arising from normal usage. It does not cover\n",
            "physical damage, unauthorized repairs, or damages due to improper handling.\n",
            "Customers can extend their warranty coverage up to 3 years by subscribing to our Extended\n",
            "Protection Plan.\n",
            "To make a warranty claim, users must register the product on our website within 15 days of\n",
            "purchase and provide a valid proof of purchase during the claim process.Company Manual - TechNova Solutions Pvt. Ltd.\n",
            "Warranty services include repair, replacement, or refund at the company's discretion.\n",
            "Customer Service\n",
            "Our award-winning customer support is available 24/7 to assist you with any queries or concerns.\n",
            "Support Channels:\n",
            "- Phone: +91-9999999999 (Mon-Fri, 9 AM to 6 PM IST)\n",
            "- Email: support@technova.com (Response time: within 24 hours)\n",
            "- Live Chat: Available on our website and mobile app\n",
            "- Help Center: https://support.technova.com\n",
            "We also provide video call support and remote diagnostics for troubleshooting smart home devices.\n",
            "Your satisfaction is our priority. We aim to resolve most customer queries within 48 hours.\n",
            "Environmental Commitment\n",
            "At TechNova, sustainability is a core part of our business. We are committed to reducing electronic\n",
            "waste and promoting green technologies.\n",
            "We use 100% recyclable packaging, and our facilities are powered by renewable energy.\n",
            "Our 'Recycle & Upgrade' program allows customers to exchange their old TechNova devices for\n",
            "credits toward new purchases, ensuring responsible disposal and reuse.\n",
            "We also plant one tree for every product sold, in partnership with global reforestation organizations.\n",
            "TechNova has received multiple green certifications, including ISO 14001 and Energy Star Partner\n",
            "of the Year awards.\n"
          ]
        }
      ]
    },
    {
      "cell_type": "code",
      "source": [
        "import re\n",
        "\n",
        "def clean_text(text):\n",
        "  #remove extra spaces\n",
        "  text = re.sub(r'\\s+' , ' ' , text)\n",
        "  #remove non-ascii characters (if any)\n",
        "  text = re.sub(r'[^\\x00-\\x7F]+' , '', text)\n",
        "  return text\n",
        "\n",
        "cleaned_text = clean_text(extracted_text)\n",
        "print(cleaned_text)"
      ],
      "metadata": {
        "colab": {
          "base_uri": "https://localhost:8080/"
        },
        "id": "Q6bHX7U55UrR",
        "outputId": "0729ad72-fb66-41eb-83ec-9be5690fcef7"
      },
      "execution_count": 5,
      "outputs": [
        {
          "output_type": "stream",
          "name": "stdout",
          "text": [
            "Company Manual - TechNova Solutions Pvt. Ltd. About the Company TechNova Solutions Pvt. Ltd. is a global leader in consumer electronics, committed to delivering innovative technology and excellent customer service. Founded in 2005, TechNova has grown to serve over 20 million customers across 35 countries. We specialize in smart devices, home automation, and sustainable technology solutions. Our mission is to make everyday life smarter, simpler, and more connected. We believe in constant innovation, environmental responsibility, and customer satisfaction above all else. Our headquarters are located in Bengaluru, India, with major regional offices in Singapore, Germany, and the United States. Return Policy We offer a 30-day return policy on all our products purchased directly through our website or authorized outlets. To be eligible for a return, the product must be unused, in its original packaging, and accompanied by the original invoice. Refunds are initiated after we receive and inspect the returned item. Returns are not accepted for customized products, opened software, or items marked 'final sale.' For international orders, return shipping costs are borne by the customer unless the product is found defective upon arrival. Please initiate your return through our online portal or by contacting our support team within 30 days of delivery. Warranty All TechNova products come with a one-year limited warranty from the date of purchase. This warranty covers manufacturing defects and issues arising from normal usage. It does not cover physical damage, unauthorized repairs, or damages due to improper handling. Customers can extend their warranty coverage up to 3 years by subscribing to our Extended Protection Plan. To make a warranty claim, users must register the product on our website within 15 days of purchase and provide a valid proof of purchase during the claim process.Company Manual - TechNova Solutions Pvt. Ltd. Warranty services include repair, replacement, or refund at the company's discretion. Customer Service Our award-winning customer support is available 24/7 to assist you with any queries or concerns. Support Channels: - Phone: +91-9999999999 (Mon-Fri, 9 AM to 6 PM IST) - Email: support@technova.com (Response time: within 24 hours) - Live Chat: Available on our website and mobile app - Help Center: https://support.technova.com We also provide video call support and remote diagnostics for troubleshooting smart home devices. Your satisfaction is our priority. We aim to resolve most customer queries within 48 hours. Environmental Commitment At TechNova, sustainability is a core part of our business. We are committed to reducing electronic waste and promoting green technologies. We use 100% recyclable packaging, and our facilities are powered by renewable energy. Our 'Recycle & Upgrade' program allows customers to exchange their old TechNova devices for credits toward new purchases, ensuring responsible disposal and reuse. We also plant one tree for every product sold, in partnership with global reforestation organizations. TechNova has received multiple green certifications, including ISO 14001 and Energy Star Partner of the Year awards.\n"
          ]
        }
      ]
    },
    {
      "cell_type": "code",
      "source": [
        "cleaned_text.split('Return Policy')[0]"
      ],
      "metadata": {
        "colab": {
          "base_uri": "https://localhost:8080/",
          "height": 123
        },
        "id": "fdraz5CG6hUC",
        "outputId": "c05066ac-06f8-4197-9a1d-fe6a6e68802a"
      },
      "execution_count": 7,
      "outputs": [
        {
          "output_type": "execute_result",
          "data": {
            "text/plain": [
              "'Company Manual - TechNova Solutions Pvt. Ltd. About the Company TechNova Solutions Pvt. Ltd. is a global leader in consumer electronics, committed to delivering innovative technology and excellent customer service. Founded in 2005, TechNova has grown to serve over 20 million customers across 35 countries. We specialize in smart devices, home automation, and sustainable technology solutions. Our mission is to make everyday life smarter, simpler, and more connected. We believe in constant innovation, environmental responsibility, and customer satisfaction above all else. Our headquarters are located in Bengaluru, India, with major regional offices in Singapore, Germany, and the United States. '"
            ],
            "application/vnd.google.colaboratory.intrinsic+json": {
              "type": "string"
            }
          },
          "metadata": {},
          "execution_count": 7
        }
      ]
    },
    {
      "cell_type": "code",
      "source": [
        "cleaned_text.split('Return Policy')[1].split('Warranty')[0]"
      ],
      "metadata": {
        "colab": {
          "base_uri": "https://localhost:8080/",
          "height": 123
        },
        "id": "jF5BpbxZ7krY",
        "outputId": "4c6d83e1-f406-42d2-997f-742c5448744f"
      },
      "execution_count": 10,
      "outputs": [
        {
          "output_type": "execute_result",
          "data": {
            "text/plain": [
              "\" We offer a 30-day return policy on all our products purchased directly through our website or authorized outlets. To be eligible for a return, the product must be unused, in its original packaging, and accompanied by the original invoice. Refunds are initiated after we receive and inspect the returned item. Returns are not accepted for customized products, opened software, or items marked 'final sale.' For international orders, return shipping costs are borne by the customer unless the product is found defective upon arrival. Please initiate your return through our online portal or by contacting our support team within 30 days of delivery. \""
            ],
            "application/vnd.google.colaboratory.intrinsic+json": {
              "type": "string"
            }
          },
          "metadata": {},
          "execution_count": 10
        }
      ]
    },
    {
      "cell_type": "code",
      "source": [
        "sections = {\n",
        "    \"About the Company\" : cleaned_text.split('About the Company')[1].split('Return Policy')[0],\n",
        "    \"Return Policy\" : cleaned_text.split('Return Policy')[1].split('Warranty')[0],\n",
        "    \"Warranty\" : cleaned_text.split('Warranty')[1].split('Customer Service')[0],\n",
        "    \"Customer Service\" : cleaned_text.split('Customer Service')[1].split('Environmental Commitment')[0],\n",
        "    \"Environmental Commitment\" : cleaned_text.split('Environmental Commitment')[1]\n",
        "}\n",
        "\n",
        "print(sections)"
      ],
      "metadata": {
        "colab": {
          "base_uri": "https://localhost:8080/"
        },
        "id": "DkrQwAJk7yF2",
        "outputId": "4c7de5e6-94ce-4961-8eb5-774a5f96c212"
      },
      "execution_count": 11,
      "outputs": [
        {
          "output_type": "stream",
          "name": "stdout",
          "text": [
            "{'About the Company': ' TechNova Solutions Pvt. Ltd. is a global leader in consumer electronics, committed to delivering innovative technology and excellent customer service. Founded in 2005, TechNova has grown to serve over 20 million customers across 35 countries. We specialize in smart devices, home automation, and sustainable technology solutions. Our mission is to make everyday life smarter, simpler, and more connected. We believe in constant innovation, environmental responsibility, and customer satisfaction above all else. Our headquarters are located in Bengaluru, India, with major regional offices in Singapore, Germany, and the United States. ', 'Return Policy': \" We offer a 30-day return policy on all our products purchased directly through our website or authorized outlets. To be eligible for a return, the product must be unused, in its original packaging, and accompanied by the original invoice. Refunds are initiated after we receive and inspect the returned item. Returns are not accepted for customized products, opened software, or items marked 'final sale.' For international orders, return shipping costs are borne by the customer unless the product is found defective upon arrival. Please initiate your return through our online portal or by contacting our support team within 30 days of delivery. \", 'Warranty': ' All TechNova products come with a one-year limited warranty from the date of purchase. This warranty covers manufacturing defects and issues arising from normal usage. It does not cover physical damage, unauthorized repairs, or damages due to improper handling. Customers can extend their warranty coverage up to 3 years by subscribing to our Extended Protection Plan. To make a warranty claim, users must register the product on our website within 15 days of purchase and provide a valid proof of purchase during the claim process.Company Manual - TechNova Solutions Pvt. Ltd. ', 'Customer Service': ' Our award-winning customer support is available 24/7 to assist you with any queries or concerns. Support Channels: - Phone: +91-9999999999 (Mon-Fri, 9 AM to 6 PM IST) - Email: support@technova.com (Response time: within 24 hours) - Live Chat: Available on our website and mobile app - Help Center: https://support.technova.com We also provide video call support and remote diagnostics for troubleshooting smart home devices. Your satisfaction is our priority. We aim to resolve most customer queries within 48 hours. ', 'Environmental Commitment': \" At TechNova, sustainability is a core part of our business. We are committed to reducing electronic waste and promoting green technologies. We use 100% recyclable packaging, and our facilities are powered by renewable energy. Our 'Recycle & Upgrade' program allows customers to exchange their old TechNova devices for credits toward new purchases, ensuring responsible disposal and reuse. We also plant one tree for every product sold, in partnership with global reforestation organizations. TechNova has received multiple green certifications, including ISO 14001 and Energy Star Partner of the Year awards.\"}\n"
          ]
        }
      ]
    },
    {
      "cell_type": "code",
      "source": [
        "for section_title,content in sections.items():\n",
        "  print(f\"Section Title: {section_title}\")\n",
        "  print(f\"Content: {content}\")"
      ],
      "metadata": {
        "colab": {
          "base_uri": "https://localhost:8080/"
        },
        "id": "q0YD-fCo8R7n",
        "outputId": "1b61ddfa-a5f1-4a7d-b75f-3ecb1cae1c27"
      },
      "execution_count": 12,
      "outputs": [
        {
          "output_type": "stream",
          "name": "stdout",
          "text": [
            "Section Title: About the Company\n",
            "Content:  TechNova Solutions Pvt. Ltd. is a global leader in consumer electronics, committed to delivering innovative technology and excellent customer service. Founded in 2005, TechNova has grown to serve over 20 million customers across 35 countries. We specialize in smart devices, home automation, and sustainable technology solutions. Our mission is to make everyday life smarter, simpler, and more connected. We believe in constant innovation, environmental responsibility, and customer satisfaction above all else. Our headquarters are located in Bengaluru, India, with major regional offices in Singapore, Germany, and the United States. \n",
            "Section Title: Return Policy\n",
            "Content:  We offer a 30-day return policy on all our products purchased directly through our website or authorized outlets. To be eligible for a return, the product must be unused, in its original packaging, and accompanied by the original invoice. Refunds are initiated after we receive and inspect the returned item. Returns are not accepted for customized products, opened software, or items marked 'final sale.' For international orders, return shipping costs are borne by the customer unless the product is found defective upon arrival. Please initiate your return through our online portal or by contacting our support team within 30 days of delivery. \n",
            "Section Title: Warranty\n",
            "Content:  All TechNova products come with a one-year limited warranty from the date of purchase. This warranty covers manufacturing defects and issues arising from normal usage. It does not cover physical damage, unauthorized repairs, or damages due to improper handling. Customers can extend their warranty coverage up to 3 years by subscribing to our Extended Protection Plan. To make a warranty claim, users must register the product on our website within 15 days of purchase and provide a valid proof of purchase during the claim process.Company Manual - TechNova Solutions Pvt. Ltd. \n",
            "Section Title: Customer Service\n",
            "Content:  Our award-winning customer support is available 24/7 to assist you with any queries or concerns. Support Channels: - Phone: +91-9999999999 (Mon-Fri, 9 AM to 6 PM IST) - Email: support@technova.com (Response time: within 24 hours) - Live Chat: Available on our website and mobile app - Help Center: https://support.technova.com We also provide video call support and remote diagnostics for troubleshooting smart home devices. Your satisfaction is our priority. We aim to resolve most customer queries within 48 hours. \n",
            "Section Title: Environmental Commitment\n",
            "Content:  At TechNova, sustainability is a core part of our business. We are committed to reducing electronic waste and promoting green technologies. We use 100% recyclable packaging, and our facilities are powered by renewable energy. Our 'Recycle & Upgrade' program allows customers to exchange their old TechNova devices for credits toward new purchases, ensuring responsible disposal and reuse. We also plant one tree for every product sold, in partnership with global reforestation organizations. TechNova has received multiple green certifications, including ISO 14001 and Energy Star Partner of the Year awards.\n"
          ]
        }
      ]
    },
    {
      "cell_type": "code",
      "source": [
        "for section_title,content in sections.items():\n",
        "  if 'return' in content:\n",
        "    print(\"match found\")\n",
        "  else:\n",
        "    print(\"match not found\")"
      ],
      "metadata": {
        "colab": {
          "base_uri": "https://localhost:8080/"
        },
        "id": "RF0DuGOR833H",
        "outputId": "30fd1ec4-d524-415a-c078-78dff4c2363b"
      },
      "execution_count": 17,
      "outputs": [
        {
          "output_type": "stream",
          "name": "stdout",
          "text": [
            "match not found\n",
            "match found\n",
            "match not found\n",
            "match not found\n",
            "match not found\n"
          ]
        }
      ]
    },
    {
      "cell_type": "code",
      "source": [
        "def query_matching(query , sections):\n",
        "  query = query.lower()\n",
        "  for section_title,content in sections.items():\n",
        "    if query in content.lower():\n",
        "      return f\"Bot: Section Title: {section_title}\\nContent: {content}\"\n",
        "  return \"Bot: I couldn't find the relevant result\""
      ],
      "metadata": {
        "id": "R_pyC0U88Xxm"
      },
      "execution_count": 14,
      "outputs": []
    },
    {
      "cell_type": "code",
      "source": [
        "user_query = \"How can i return my product?\"\n",
        "query_matching(user_query , sections)"
      ],
      "metadata": {
        "colab": {
          "base_uri": "https://localhost:8080/",
          "height": 35
        },
        "id": "Fg6Y1-R88jYn",
        "outputId": "388e2728-b978-463b-f531-baac1f1ef274"
      },
      "execution_count": 15,
      "outputs": [
        {
          "output_type": "execute_result",
          "data": {
            "text/plain": [
              "\"Bot: I couldn't find the relevant result\""
            ],
            "application/vnd.google.colaboratory.intrinsic+json": {
              "type": "string"
            }
          },
          "metadata": {},
          "execution_count": 15
        }
      ]
    },
    {
      "cell_type": "code",
      "source": [
        "def query_matching(query , sections):\n",
        "  query_keywords = re.findall(r'\\w+',query.lower())\n",
        "  #return query.split(' ')\n",
        "\n",
        "  max_hits = 0\n",
        "  best_match = None\n",
        "\n",
        "  section_hits = {}\n",
        "  for section_title,content in sections.items():\n",
        "    content_lower = content.lower()\n",
        "\n",
        "    hits = 0\n",
        "    for word in query_keywords:\n",
        "      if (word in content_lower) | (word in section_title.lower()):\n",
        "        hits += 1\n",
        "      section_hits[section_title] = hits\n",
        "\n",
        "    if hits > max_hits:\n",
        "      max_hits = hits\n",
        "      best_match = (section_title,content)\n",
        "\n",
        "  if best_match:\n",
        "    title,content = best_match\n",
        "    return f\"Bot: Section Title: {title}\\nContent: {content}\"\n",
        "  else:\n",
        "    \"Bot: I couldn't find the relevant result\""
      ],
      "metadata": {
        "id": "3VJIN3BR9hmt"
      },
      "execution_count": 28,
      "outputs": []
    },
    {
      "cell_type": "code",
      "source": [
        "user_query = \"How can i return my product?\"\n",
        "result = query_matching(user_query , sections)\n",
        "print(result)"
      ],
      "metadata": {
        "colab": {
          "base_uri": "https://localhost:8080/"
        },
        "id": "othg08t0-2Cq",
        "outputId": "79f7f89b-a4c9-4f59-9a9b-61f02b92abc2"
      },
      "execution_count": 30,
      "outputs": [
        {
          "output_type": "stream",
          "name": "stdout",
          "text": [
            "Bot: Section Title: Return Policy\n",
            "Content:  We offer a 30-day return policy on all our products purchased directly through our website or authorized outlets. To be eligible for a return, the product must be unused, in its original packaging, and accompanied by the original invoice. Refunds are initiated after we receive and inspect the returned item. Returns are not accepted for customized products, opened software, or items marked 'final sale.' For international orders, return shipping costs are borne by the customer unless the product is found defective upon arrival. Please initiate your return through our online portal or by contacting our support team within 30 days of delivery. \n"
          ]
        }
      ]
    },
    {
      "cell_type": "code",
      "source": [
        "user_query = \"Tell me about the company.\"\n",
        "result = query_matching(user_query , sections)\n",
        "print(result)"
      ],
      "metadata": {
        "colab": {
          "base_uri": "https://localhost:8080/"
        },
        "id": "hw6V4ucq-5cp",
        "outputId": "f72604a5-5a19-4ec9-881c-fb02a8ea2983"
      },
      "execution_count": 31,
      "outputs": [
        {
          "output_type": "stream",
          "name": "stdout",
          "text": [
            "Bot: Section Title: About the Company\n",
            "Content:  TechNova Solutions Pvt. Ltd. is a global leader in consumer electronics, committed to delivering innovative technology and excellent customer service. Founded in 2005, TechNova has grown to serve over 20 million customers across 35 countries. We specialize in smart devices, home automation, and sustainable technology solutions. Our mission is to make everyday life smarter, simpler, and more connected. We believe in constant innovation, environmental responsibility, and customer satisfaction above all else. Our headquarters are located in Bengaluru, India, with major regional offices in Singapore, Germany, and the United States. \n"
          ]
        }
      ]
    },
    {
      "cell_type": "code",
      "source": [
        "user_query = \"Customer support details\"\n",
        "result = query_matching(user_query , sections)\n",
        "print(result)"
      ],
      "metadata": {
        "colab": {
          "base_uri": "https://localhost:8080/"
        },
        "id": "pQwEL-ddBarA",
        "outputId": "c0a5bb93-0050-450f-8b79-abf21ec1e724"
      },
      "execution_count": 33,
      "outputs": [
        {
          "output_type": "stream",
          "name": "stdout",
          "text": [
            "Bot: Section Title: Return Policy\n",
            "Content:  We offer a 30-day return policy on all our products purchased directly through our website or authorized outlets. To be eligible for a return, the product must be unused, in its original packaging, and accompanied by the original invoice. Refunds are initiated after we receive and inspect the returned item. Returns are not accepted for customized products, opened software, or items marked 'final sale.' For international orders, return shipping costs are borne by the customer unless the product is found defective upon arrival. Please initiate your return through our online portal or by contacting our support team within 30 days of delivery. \n"
          ]
        }
      ]
    },
    {
      "cell_type": "code",
      "source": [
        "user_query = \"send things back\"\n",
        "result = query_matching(user_query , sections)\n",
        "print(result)"
      ],
      "metadata": {
        "colab": {
          "base_uri": "https://localhost:8080/"
        },
        "id": "iLzh_SruBe1g",
        "outputId": "e15feb71-b528-46c5-85f8-ff408a42d370"
      },
      "execution_count": 37,
      "outputs": [
        {
          "output_type": "stream",
          "name": "stdout",
          "text": [
            "None\n"
          ]
        }
      ]
    },
    {
      "cell_type": "code",
      "source": [],
      "metadata": {
        "id": "4bqd2RtnBzL7"
      },
      "execution_count": null,
      "outputs": []
    }
  ]
}